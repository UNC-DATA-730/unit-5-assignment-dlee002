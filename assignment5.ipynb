{
 "cells": [
  {
   "cell_type": "markdown",
   "id": "df0d234f-1e1a-4495-8208-e177e7f527aa",
   "metadata": {},
   "source": [
    "Complete the exercises below For **Assignment #5**."
   ]
  },
  {
   "cell_type": "markdown",
   "id": "dda5a856-c272-4fdd-8670-d66a0cf2c7e4",
   "metadata": {},
   "source": [
    "In this exercise, we are building a logistic regression classification model. We'll work with the [Pima Indians Diabetes Database](https://www.kaggle.com/datasets/uciml/pima-indians-diabetes-database).  "
   ]
  },
  {
   "cell_type": "markdown",
   "id": "c123800d-7139-4c31-ba42-82b8a8eb7ff5",
   "metadata": {},
   "source": [
    "Load the `tidymodels` library. "
   ]
  },
  {
   "cell_type": "code",
   "execution_count": 1,
   "id": "047c6e53-68f8-466b-ae3c-1bc19e288f27",
   "metadata": {
    "tags": []
   },
   "outputs": [
    {
     "name": "stderr",
     "output_type": "stream",
     "text": [
      "Warning message:\n",
      "“Failed to locate timezone database”\n",
      "── \u001b[1mAttaching packages\u001b[22m ────────────────────────────────────── tidymodels 1.1.1 ──\n",
      "\n",
      "\u001b[32m✔\u001b[39m \u001b[34mbroom       \u001b[39m 1.0.5     \u001b[32m✔\u001b[39m \u001b[34mrecipes     \u001b[39m 1.0.9\n",
      "\u001b[32m✔\u001b[39m \u001b[34mdials       \u001b[39m 1.2.0     \u001b[32m✔\u001b[39m \u001b[34mrsample     \u001b[39m 1.2.0\n",
      "\u001b[32m✔\u001b[39m \u001b[34mdplyr       \u001b[39m 1.1.4     \u001b[32m✔\u001b[39m \u001b[34mtibble      \u001b[39m 3.2.1\n",
      "\u001b[32m✔\u001b[39m \u001b[34mggplot2     \u001b[39m 3.4.4     \u001b[32m✔\u001b[39m \u001b[34mtidyr       \u001b[39m 1.3.0\n",
      "\u001b[32m✔\u001b[39m \u001b[34minfer       \u001b[39m 1.0.5     \u001b[32m✔\u001b[39m \u001b[34mtune        \u001b[39m 1.1.2\n",
      "\u001b[32m✔\u001b[39m \u001b[34mmodeldata   \u001b[39m 1.2.0     \u001b[32m✔\u001b[39m \u001b[34mworkflows   \u001b[39m 1.1.3\n",
      "\u001b[32m✔\u001b[39m \u001b[34mparsnip     \u001b[39m 1.1.1     \u001b[32m✔\u001b[39m \u001b[34mworkflowsets\u001b[39m 1.0.1\n",
      "\u001b[32m✔\u001b[39m \u001b[34mpurrr       \u001b[39m 1.0.2     \u001b[32m✔\u001b[39m \u001b[34myardstick   \u001b[39m 1.2.0\n",
      "\n",
      "── \u001b[1mConflicts\u001b[22m ───────────────────────────────────────── tidymodels_conflicts() ──\n",
      "\u001b[31m✖\u001b[39m \u001b[34mpurrr\u001b[39m::\u001b[32mdiscard()\u001b[39m masks \u001b[34mscales\u001b[39m::discard()\n",
      "\u001b[31m✖\u001b[39m \u001b[34mdplyr\u001b[39m::\u001b[32mfilter()\u001b[39m  masks \u001b[34mstats\u001b[39m::filter()\n",
      "\u001b[31m✖\u001b[39m \u001b[34mdplyr\u001b[39m::\u001b[32mlag()\u001b[39m     masks \u001b[34mstats\u001b[39m::lag()\n",
      "\u001b[31m✖\u001b[39m \u001b[34mrecipes\u001b[39m::\u001b[32mstep()\u001b[39m  masks \u001b[34mstats\u001b[39m::step()\n",
      "\u001b[34m•\u001b[39m Use suppressPackageStartupMessages() to eliminate package startup messages\n",
      "\n"
     ]
    }
   ],
   "source": [
    "library('tidymodels')\n",
    "\n"
   ]
  },
  {
   "cell_type": "markdown",
   "id": "c6ef6a10-5b45-4857-b776-a81f92a0b682",
   "metadata": {},
   "source": [
    "The data is located in your homework directory in the `diabetes.csv` file. Read in the data by running the following cell. We are \"splitting\" the data into training and testing sets. We will evaluate our model's performance with the test set."
   ]
  },
  {
   "cell_type": "code",
   "execution_count": 2,
   "id": "e68fb274-ddbe-4ae0-a927-2c4d57d3b31a",
   "metadata": {
    "tags": []
   },
   "outputs": [
    {
     "name": "stderr",
     "output_type": "stream",
     "text": [
      "\u001b[1mRows: \u001b[22m\u001b[34m768\u001b[39m \u001b[1mColumns: \u001b[22m\u001b[34m9\u001b[39m\n",
      "\u001b[36m──\u001b[39m \u001b[1mColumn specification\u001b[22m \u001b[36m────────────────────────────────────────────────────────\u001b[39m\n",
      "\u001b[1mDelimiter:\u001b[22m \",\"\n",
      "\u001b[32mdbl\u001b[39m (9): Pregnancies, Glucose, BloodPressure, SkinThickness, Insulin, BMI, D...\n",
      "\n",
      "\u001b[36mℹ\u001b[39m Use `spec()` to retrieve the full column specification for this data.\n",
      "\u001b[36mℹ\u001b[39m Specify the column types or set `show_col_types = FALSE` to quiet this message.\n"
     ]
    }
   ],
   "source": [
    "diabetes = readr::read_csv('diabetes.csv') |> mutate(Outcome = factor(Outcome))\n",
    "\n",
    "split = initial_split(diabetes, strata = Outcome)\n",
    "\n",
    "diabetes_train = training(split)\n",
    "diabetes_test = testing(split)"
   ]
  },
  {
   "cell_type": "markdown",
   "id": "8b09de69-a735-4176-9eae-39479d2a3836",
   "metadata": {},
   "source": [
    "Glimpse the `diabetes_train` table."
   ]
  },
  {
   "cell_type": "code",
   "execution_count": 4,
   "id": "31877cc1-ae94-4002-9c95-30244b8df393",
   "metadata": {
    "tags": []
   },
   "outputs": [
    {
     "name": "stdout",
     "output_type": "stream",
     "text": [
      "Rows: 576\n",
      "Columns: 9\n",
      "$ Pregnancies              \u001b[3m\u001b[90m<dbl>\u001b[39m\u001b[23m 1, 1, 5, 10, 4, 10, 1, 3, 8, 1, 13, 5, 3, 6, …\n",
      "$ Glucose                  \u001b[3m\u001b[90m<dbl>\u001b[39m\u001b[23m 85, 89, 116, 115, 110, 139, 103, 126, 99, 97,…\n",
      "$ BloodPressure            \u001b[3m\u001b[90m<dbl>\u001b[39m\u001b[23m 66, 66, 74, 0, 92, 80, 30, 88, 84, 66, 82, 75…\n",
      "$ SkinThickness            \u001b[3m\u001b[90m<dbl>\u001b[39m\u001b[23m 29, 23, 0, 0, 0, 0, 38, 41, 0, 15, 19, 26, 11…\n",
      "$ Insulin                  \u001b[3m\u001b[90m<dbl>\u001b[39m\u001b[23m 0, 94, 0, 0, 0, 0, 83, 235, 0, 140, 110, 0, 5…\n",
      "$ BMI                      \u001b[3m\u001b[90m<dbl>\u001b[39m\u001b[23m 26.6, 28.1, 25.6, 35.3, 37.6, 27.1, 43.3, 39.…\n",
      "$ DiabetesPedigreeFunction \u001b[3m\u001b[90m<dbl>\u001b[39m\u001b[23m 0.351, 0.167, 0.201, 0.134, 0.191, 1.441, 0.1…\n",
      "$ Age                      \u001b[3m\u001b[90m<dbl>\u001b[39m\u001b[23m 31, 21, 30, 29, 30, 57, 33, 27, 50, 22, 57, 6…\n",
      "$ Outcome                  \u001b[3m\u001b[90m<fct>\u001b[39m\u001b[23m 0, 0, 0, 0, 0, 0, 0, 0, 0, 0, 0, 0, 0, 0, 0, …\n"
     ]
    },
    {
     "data": {
      "text/html": [
       "<table class=\"dataframe\">\n",
       "<caption>A tibble: 576 × 9</caption>\n",
       "<thead>\n",
       "\t<tr><th scope=col>Pregnancies</th><th scope=col>Glucose</th><th scope=col>BloodPressure</th><th scope=col>SkinThickness</th><th scope=col>Insulin</th><th scope=col>BMI</th><th scope=col>DiabetesPedigreeFunction</th><th scope=col>Age</th><th scope=col>Outcome</th></tr>\n",
       "\t<tr><th scope=col>&lt;dbl&gt;</th><th scope=col>&lt;dbl&gt;</th><th scope=col>&lt;dbl&gt;</th><th scope=col>&lt;dbl&gt;</th><th scope=col>&lt;dbl&gt;</th><th scope=col>&lt;dbl&gt;</th><th scope=col>&lt;dbl&gt;</th><th scope=col>&lt;dbl&gt;</th><th scope=col>&lt;fct&gt;</th></tr>\n",
       "</thead>\n",
       "<tbody>\n",
       "\t<tr><td> 1</td><td> 85</td><td>66</td><td>29</td><td>  0</td><td>26.6</td><td>0.351</td><td>31</td><td>0</td></tr>\n",
       "\t<tr><td> 1</td><td> 89</td><td>66</td><td>23</td><td> 94</td><td>28.1</td><td>0.167</td><td>21</td><td>0</td></tr>\n",
       "\t<tr><td> 5</td><td>116</td><td>74</td><td> 0</td><td>  0</td><td>25.6</td><td>0.201</td><td>30</td><td>0</td></tr>\n",
       "\t<tr><td>10</td><td>115</td><td> 0</td><td> 0</td><td>  0</td><td>35.3</td><td>0.134</td><td>29</td><td>0</td></tr>\n",
       "\t<tr><td> 4</td><td>110</td><td>92</td><td> 0</td><td>  0</td><td>37.6</td><td>0.191</td><td>30</td><td>0</td></tr>\n",
       "\t<tr><td>10</td><td>139</td><td>80</td><td> 0</td><td>  0</td><td>27.1</td><td>1.441</td><td>57</td><td>0</td></tr>\n",
       "\t<tr><td> 1</td><td>103</td><td>30</td><td>38</td><td> 83</td><td>43.3</td><td>0.183</td><td>33</td><td>0</td></tr>\n",
       "\t<tr><td> 3</td><td>126</td><td>88</td><td>41</td><td>235</td><td>39.3</td><td>0.704</td><td>27</td><td>0</td></tr>\n",
       "\t<tr><td> 8</td><td> 99</td><td>84</td><td> 0</td><td>  0</td><td>35.4</td><td>0.388</td><td>50</td><td>0</td></tr>\n",
       "\t<tr><td> 1</td><td> 97</td><td>66</td><td>15</td><td>140</td><td>23.2</td><td>0.487</td><td>22</td><td>0</td></tr>\n",
       "\t<tr><td>13</td><td>145</td><td>82</td><td>19</td><td>110</td><td>22.2</td><td>0.245</td><td>57</td><td>0</td></tr>\n",
       "\t<tr><td> 5</td><td>109</td><td>75</td><td>26</td><td>  0</td><td>36.0</td><td>0.546</td><td>60</td><td>0</td></tr>\n",
       "\t<tr><td> 3</td><td> 88</td><td>58</td><td>11</td><td> 54</td><td>24.8</td><td>0.267</td><td>22</td><td>0</td></tr>\n",
       "\t<tr><td> 6</td><td> 92</td><td>92</td><td> 0</td><td>  0</td><td>19.9</td><td>0.188</td><td>28</td><td>0</td></tr>\n",
       "\t<tr><td>10</td><td>122</td><td>78</td><td>31</td><td>  0</td><td>27.6</td><td>0.512</td><td>45</td><td>0</td></tr>\n",
       "\t<tr><td> 4</td><td>103</td><td>60</td><td>33</td><td>192</td><td>24.0</td><td>0.966</td><td>33</td><td>0</td></tr>\n",
       "\t<tr><td>11</td><td>138</td><td>76</td><td> 0</td><td>  0</td><td>33.2</td><td>0.420</td><td>35</td><td>0</td></tr>\n",
       "\t<tr><td> 7</td><td>133</td><td>84</td><td> 0</td><td>  0</td><td>40.2</td><td>0.696</td><td>37</td><td>0</td></tr>\n",
       "\t<tr><td> 7</td><td>106</td><td>92</td><td>18</td><td>  0</td><td>22.7</td><td>0.235</td><td>48</td><td>0</td></tr>\n",
       "\t<tr><td> 7</td><td>159</td><td>64</td><td> 0</td><td>  0</td><td>27.4</td><td>0.294</td><td>40</td><td>0</td></tr>\n",
       "\t<tr><td> 1</td><td>146</td><td>56</td><td> 0</td><td>  0</td><td>29.7</td><td>0.564</td><td>29</td><td>0</td></tr>\n",
       "\t<tr><td> 2</td><td> 71</td><td>70</td><td>27</td><td>  0</td><td>28.0</td><td>0.586</td><td>22</td><td>0</td></tr>\n",
       "\t<tr><td> 7</td><td>105</td><td> 0</td><td> 0</td><td>  0</td><td> 0.0</td><td>0.305</td><td>24</td><td>0</td></tr>\n",
       "\t<tr><td> 1</td><td>103</td><td>80</td><td>11</td><td> 82</td><td>19.4</td><td>0.491</td><td>22</td><td>0</td></tr>\n",
       "\t<tr><td> 1</td><td>101</td><td>50</td><td>15</td><td> 36</td><td>24.2</td><td>0.526</td><td>26</td><td>0</td></tr>\n",
       "\t<tr><td> 5</td><td> 88</td><td>66</td><td>21</td><td> 23</td><td>24.4</td><td>0.342</td><td>30</td><td>0</td></tr>\n",
       "\t<tr><td> 7</td><td>150</td><td>66</td><td>42</td><td>342</td><td>34.7</td><td>0.718</td><td>42</td><td>0</td></tr>\n",
       "\t<tr><td> 1</td><td> 73</td><td>50</td><td>10</td><td>  0</td><td>23.0</td><td>0.248</td><td>21</td><td>0</td></tr>\n",
       "\t<tr><td> 0</td><td>100</td><td>88</td><td>60</td><td>110</td><td>46.8</td><td>0.962</td><td>31</td><td>0</td></tr>\n",
       "\t<tr><td> 0</td><td>146</td><td>82</td><td> 0</td><td>  0</td><td>40.5</td><td>1.781</td><td>44</td><td>0</td></tr>\n",
       "\t<tr><td>⋮</td><td>⋮</td><td>⋮</td><td>⋮</td><td>⋮</td><td>⋮</td><td>⋮</td><td>⋮</td><td>⋮</td></tr>\n",
       "\t<tr><td> 8</td><td>167</td><td>106</td><td>46</td><td>231</td><td>37.6</td><td>0.165</td><td>43</td><td>1</td></tr>\n",
       "\t<tr><td> 9</td><td>145</td><td> 80</td><td>46</td><td>130</td><td>37.9</td><td>0.637</td><td>40</td><td>1</td></tr>\n",
       "\t<tr><td> 6</td><td>115</td><td> 60</td><td>39</td><td>  0</td><td>33.7</td><td>0.245</td><td>40</td><td>1</td></tr>\n",
       "\t<tr><td> 6</td><td>195</td><td> 70</td><td> 0</td><td>  0</td><td>30.9</td><td>0.328</td><td>31</td><td>1</td></tr>\n",
       "\t<tr><td> 0</td><td>162</td><td> 76</td><td>36</td><td>  0</td><td>49.6</td><td>0.364</td><td>26</td><td>1</td></tr>\n",
       "\t<tr><td> 4</td><td>125</td><td> 80</td><td> 0</td><td>  0</td><td>32.3</td><td>0.536</td><td>27</td><td>1</td></tr>\n",
       "\t<tr><td> 1</td><td>144</td><td> 82</td><td>46</td><td>180</td><td>46.1</td><td>0.335</td><td>46</td><td>1</td></tr>\n",
       "\t<tr><td>13</td><td>158</td><td>114</td><td> 0</td><td>  0</td><td>42.3</td><td>0.257</td><td>44</td><td>1</td></tr>\n",
       "\t<tr><td> 7</td><td>129</td><td> 68</td><td>49</td><td>125</td><td>38.5</td><td>0.439</td><td>43</td><td>1</td></tr>\n",
       "\t<tr><td> 7</td><td>142</td><td> 90</td><td>24</td><td>480</td><td>30.4</td><td>0.128</td><td>43</td><td>1</td></tr>\n",
       "\t<tr><td> 1</td><td>168</td><td> 88</td><td>29</td><td>  0</td><td>35.0</td><td>0.905</td><td>52</td><td>1</td></tr>\n",
       "\t<tr><td> 2</td><td> 93</td><td> 64</td><td>32</td><td>160</td><td>38.0</td><td>0.674</td><td>23</td><td>1</td></tr>\n",
       "\t<tr><td>10</td><td>129</td><td> 62</td><td>36</td><td>  0</td><td>41.2</td><td>0.441</td><td>38</td><td>1</td></tr>\n",
       "\t<tr><td> 3</td><td>173</td><td> 78</td><td>39</td><td>185</td><td>33.8</td><td>0.970</td><td>31</td><td>1</td></tr>\n",
       "\t<tr><td> 1</td><td>149</td><td> 68</td><td>29</td><td>127</td><td>29.3</td><td>0.349</td><td>42</td><td>1</td></tr>\n",
       "\t<tr><td> 3</td><td>130</td><td> 78</td><td>23</td><td> 79</td><td>28.4</td><td>0.323</td><td>34</td><td>1</td></tr>\n",
       "\t<tr><td> 8</td><td>120</td><td> 86</td><td> 0</td><td>  0</td><td>28.4</td><td>0.259</td><td>22</td><td>1</td></tr>\n",
       "\t<tr><td> 2</td><td>174</td><td> 88</td><td>37</td><td>120</td><td>44.5</td><td>0.646</td><td>24</td><td>1</td></tr>\n",
       "\t<tr><td> 1</td><td>102</td><td> 74</td><td> 0</td><td>  0</td><td>39.5</td><td>0.293</td><td>42</td><td>1</td></tr>\n",
       "\t<tr><td>11</td><td>120</td><td> 80</td><td>37</td><td>150</td><td>42.3</td><td>0.785</td><td>48</td><td>1</td></tr>\n",
       "\t<tr><td> 9</td><td>140</td><td> 94</td><td> 0</td><td>  0</td><td>32.7</td><td>0.734</td><td>45</td><td>1</td></tr>\n",
       "\t<tr><td> 3</td><td>187</td><td> 70</td><td>22</td><td>200</td><td>36.4</td><td>0.408</td><td>36</td><td>1</td></tr>\n",
       "\t<tr><td> 6</td><td>162</td><td> 62</td><td> 0</td><td>  0</td><td>24.3</td><td>0.178</td><td>50</td><td>1</td></tr>\n",
       "\t<tr><td> 4</td><td>136</td><td> 70</td><td> 0</td><td>  0</td><td>31.2</td><td>1.182</td><td>22</td><td>1</td></tr>\n",
       "\t<tr><td> 0</td><td>181</td><td> 88</td><td>44</td><td>510</td><td>43.3</td><td>0.222</td><td>26</td><td>1</td></tr>\n",
       "\t<tr><td> 8</td><td>154</td><td> 78</td><td>32</td><td>  0</td><td>32.4</td><td>0.443</td><td>45</td><td>1</td></tr>\n",
       "\t<tr><td> 1</td><td>128</td><td> 88</td><td>39</td><td>110</td><td>36.5</td><td>1.057</td><td>37</td><td>1</td></tr>\n",
       "\t<tr><td> 0</td><td>123</td><td> 72</td><td> 0</td><td>  0</td><td>36.3</td><td>0.258</td><td>52</td><td>1</td></tr>\n",
       "\t<tr><td> 9</td><td>170</td><td> 74</td><td>31</td><td>  0</td><td>44.0</td><td>0.403</td><td>43</td><td>1</td></tr>\n",
       "\t<tr><td> 1</td><td>126</td><td> 60</td><td> 0</td><td>  0</td><td>30.1</td><td>0.349</td><td>47</td><td>1</td></tr>\n",
       "</tbody>\n",
       "</table>\n"
      ],
      "text/latex": [
       "A tibble: 576 × 9\n",
       "\\begin{tabular}{lllllllll}\n",
       " Pregnancies & Glucose & BloodPressure & SkinThickness & Insulin & BMI & DiabetesPedigreeFunction & Age & Outcome\\\\\n",
       " <dbl> & <dbl> & <dbl> & <dbl> & <dbl> & <dbl> & <dbl> & <dbl> & <fct>\\\\\n",
       "\\hline\n",
       "\t  1 &  85 & 66 & 29 &   0 & 26.6 & 0.351 & 31 & 0\\\\\n",
       "\t  1 &  89 & 66 & 23 &  94 & 28.1 & 0.167 & 21 & 0\\\\\n",
       "\t  5 & 116 & 74 &  0 &   0 & 25.6 & 0.201 & 30 & 0\\\\\n",
       "\t 10 & 115 &  0 &  0 &   0 & 35.3 & 0.134 & 29 & 0\\\\\n",
       "\t  4 & 110 & 92 &  0 &   0 & 37.6 & 0.191 & 30 & 0\\\\\n",
       "\t 10 & 139 & 80 &  0 &   0 & 27.1 & 1.441 & 57 & 0\\\\\n",
       "\t  1 & 103 & 30 & 38 &  83 & 43.3 & 0.183 & 33 & 0\\\\\n",
       "\t  3 & 126 & 88 & 41 & 235 & 39.3 & 0.704 & 27 & 0\\\\\n",
       "\t  8 &  99 & 84 &  0 &   0 & 35.4 & 0.388 & 50 & 0\\\\\n",
       "\t  1 &  97 & 66 & 15 & 140 & 23.2 & 0.487 & 22 & 0\\\\\n",
       "\t 13 & 145 & 82 & 19 & 110 & 22.2 & 0.245 & 57 & 0\\\\\n",
       "\t  5 & 109 & 75 & 26 &   0 & 36.0 & 0.546 & 60 & 0\\\\\n",
       "\t  3 &  88 & 58 & 11 &  54 & 24.8 & 0.267 & 22 & 0\\\\\n",
       "\t  6 &  92 & 92 &  0 &   0 & 19.9 & 0.188 & 28 & 0\\\\\n",
       "\t 10 & 122 & 78 & 31 &   0 & 27.6 & 0.512 & 45 & 0\\\\\n",
       "\t  4 & 103 & 60 & 33 & 192 & 24.0 & 0.966 & 33 & 0\\\\\n",
       "\t 11 & 138 & 76 &  0 &   0 & 33.2 & 0.420 & 35 & 0\\\\\n",
       "\t  7 & 133 & 84 &  0 &   0 & 40.2 & 0.696 & 37 & 0\\\\\n",
       "\t  7 & 106 & 92 & 18 &   0 & 22.7 & 0.235 & 48 & 0\\\\\n",
       "\t  7 & 159 & 64 &  0 &   0 & 27.4 & 0.294 & 40 & 0\\\\\n",
       "\t  1 & 146 & 56 &  0 &   0 & 29.7 & 0.564 & 29 & 0\\\\\n",
       "\t  2 &  71 & 70 & 27 &   0 & 28.0 & 0.586 & 22 & 0\\\\\n",
       "\t  7 & 105 &  0 &  0 &   0 &  0.0 & 0.305 & 24 & 0\\\\\n",
       "\t  1 & 103 & 80 & 11 &  82 & 19.4 & 0.491 & 22 & 0\\\\\n",
       "\t  1 & 101 & 50 & 15 &  36 & 24.2 & 0.526 & 26 & 0\\\\\n",
       "\t  5 &  88 & 66 & 21 &  23 & 24.4 & 0.342 & 30 & 0\\\\\n",
       "\t  7 & 150 & 66 & 42 & 342 & 34.7 & 0.718 & 42 & 0\\\\\n",
       "\t  1 &  73 & 50 & 10 &   0 & 23.0 & 0.248 & 21 & 0\\\\\n",
       "\t  0 & 100 & 88 & 60 & 110 & 46.8 & 0.962 & 31 & 0\\\\\n",
       "\t  0 & 146 & 82 &  0 &   0 & 40.5 & 1.781 & 44 & 0\\\\\n",
       "\t ⋮ & ⋮ & ⋮ & ⋮ & ⋮ & ⋮ & ⋮ & ⋮ & ⋮\\\\\n",
       "\t  8 & 167 & 106 & 46 & 231 & 37.6 & 0.165 & 43 & 1\\\\\n",
       "\t  9 & 145 &  80 & 46 & 130 & 37.9 & 0.637 & 40 & 1\\\\\n",
       "\t  6 & 115 &  60 & 39 &   0 & 33.7 & 0.245 & 40 & 1\\\\\n",
       "\t  6 & 195 &  70 &  0 &   0 & 30.9 & 0.328 & 31 & 1\\\\\n",
       "\t  0 & 162 &  76 & 36 &   0 & 49.6 & 0.364 & 26 & 1\\\\\n",
       "\t  4 & 125 &  80 &  0 &   0 & 32.3 & 0.536 & 27 & 1\\\\\n",
       "\t  1 & 144 &  82 & 46 & 180 & 46.1 & 0.335 & 46 & 1\\\\\n",
       "\t 13 & 158 & 114 &  0 &   0 & 42.3 & 0.257 & 44 & 1\\\\\n",
       "\t  7 & 129 &  68 & 49 & 125 & 38.5 & 0.439 & 43 & 1\\\\\n",
       "\t  7 & 142 &  90 & 24 & 480 & 30.4 & 0.128 & 43 & 1\\\\\n",
       "\t  1 & 168 &  88 & 29 &   0 & 35.0 & 0.905 & 52 & 1\\\\\n",
       "\t  2 &  93 &  64 & 32 & 160 & 38.0 & 0.674 & 23 & 1\\\\\n",
       "\t 10 & 129 &  62 & 36 &   0 & 41.2 & 0.441 & 38 & 1\\\\\n",
       "\t  3 & 173 &  78 & 39 & 185 & 33.8 & 0.970 & 31 & 1\\\\\n",
       "\t  1 & 149 &  68 & 29 & 127 & 29.3 & 0.349 & 42 & 1\\\\\n",
       "\t  3 & 130 &  78 & 23 &  79 & 28.4 & 0.323 & 34 & 1\\\\\n",
       "\t  8 & 120 &  86 &  0 &   0 & 28.4 & 0.259 & 22 & 1\\\\\n",
       "\t  2 & 174 &  88 & 37 & 120 & 44.5 & 0.646 & 24 & 1\\\\\n",
       "\t  1 & 102 &  74 &  0 &   0 & 39.5 & 0.293 & 42 & 1\\\\\n",
       "\t 11 & 120 &  80 & 37 & 150 & 42.3 & 0.785 & 48 & 1\\\\\n",
       "\t  9 & 140 &  94 &  0 &   0 & 32.7 & 0.734 & 45 & 1\\\\\n",
       "\t  3 & 187 &  70 & 22 & 200 & 36.4 & 0.408 & 36 & 1\\\\\n",
       "\t  6 & 162 &  62 &  0 &   0 & 24.3 & 0.178 & 50 & 1\\\\\n",
       "\t  4 & 136 &  70 &  0 &   0 & 31.2 & 1.182 & 22 & 1\\\\\n",
       "\t  0 & 181 &  88 & 44 & 510 & 43.3 & 0.222 & 26 & 1\\\\\n",
       "\t  8 & 154 &  78 & 32 &   0 & 32.4 & 0.443 & 45 & 1\\\\\n",
       "\t  1 & 128 &  88 & 39 & 110 & 36.5 & 1.057 & 37 & 1\\\\\n",
       "\t  0 & 123 &  72 &  0 &   0 & 36.3 & 0.258 & 52 & 1\\\\\n",
       "\t  9 & 170 &  74 & 31 &   0 & 44.0 & 0.403 & 43 & 1\\\\\n",
       "\t  1 & 126 &  60 &  0 &   0 & 30.1 & 0.349 & 47 & 1\\\\\n",
       "\\end{tabular}\n"
      ],
      "text/markdown": [
       "\n",
       "A tibble: 576 × 9\n",
       "\n",
       "| Pregnancies &lt;dbl&gt; | Glucose &lt;dbl&gt; | BloodPressure &lt;dbl&gt; | SkinThickness &lt;dbl&gt; | Insulin &lt;dbl&gt; | BMI &lt;dbl&gt; | DiabetesPedigreeFunction &lt;dbl&gt; | Age &lt;dbl&gt; | Outcome &lt;fct&gt; |\n",
       "|---|---|---|---|---|---|---|---|---|\n",
       "|  1 |  85 | 66 | 29 |   0 | 26.6 | 0.351 | 31 | 0 |\n",
       "|  1 |  89 | 66 | 23 |  94 | 28.1 | 0.167 | 21 | 0 |\n",
       "|  5 | 116 | 74 |  0 |   0 | 25.6 | 0.201 | 30 | 0 |\n",
       "| 10 | 115 |  0 |  0 |   0 | 35.3 | 0.134 | 29 | 0 |\n",
       "|  4 | 110 | 92 |  0 |   0 | 37.6 | 0.191 | 30 | 0 |\n",
       "| 10 | 139 | 80 |  0 |   0 | 27.1 | 1.441 | 57 | 0 |\n",
       "|  1 | 103 | 30 | 38 |  83 | 43.3 | 0.183 | 33 | 0 |\n",
       "|  3 | 126 | 88 | 41 | 235 | 39.3 | 0.704 | 27 | 0 |\n",
       "|  8 |  99 | 84 |  0 |   0 | 35.4 | 0.388 | 50 | 0 |\n",
       "|  1 |  97 | 66 | 15 | 140 | 23.2 | 0.487 | 22 | 0 |\n",
       "| 13 | 145 | 82 | 19 | 110 | 22.2 | 0.245 | 57 | 0 |\n",
       "|  5 | 109 | 75 | 26 |   0 | 36.0 | 0.546 | 60 | 0 |\n",
       "|  3 |  88 | 58 | 11 |  54 | 24.8 | 0.267 | 22 | 0 |\n",
       "|  6 |  92 | 92 |  0 |   0 | 19.9 | 0.188 | 28 | 0 |\n",
       "| 10 | 122 | 78 | 31 |   0 | 27.6 | 0.512 | 45 | 0 |\n",
       "|  4 | 103 | 60 | 33 | 192 | 24.0 | 0.966 | 33 | 0 |\n",
       "| 11 | 138 | 76 |  0 |   0 | 33.2 | 0.420 | 35 | 0 |\n",
       "|  7 | 133 | 84 |  0 |   0 | 40.2 | 0.696 | 37 | 0 |\n",
       "|  7 | 106 | 92 | 18 |   0 | 22.7 | 0.235 | 48 | 0 |\n",
       "|  7 | 159 | 64 |  0 |   0 | 27.4 | 0.294 | 40 | 0 |\n",
       "|  1 | 146 | 56 |  0 |   0 | 29.7 | 0.564 | 29 | 0 |\n",
       "|  2 |  71 | 70 | 27 |   0 | 28.0 | 0.586 | 22 | 0 |\n",
       "|  7 | 105 |  0 |  0 |   0 |  0.0 | 0.305 | 24 | 0 |\n",
       "|  1 | 103 | 80 | 11 |  82 | 19.4 | 0.491 | 22 | 0 |\n",
       "|  1 | 101 | 50 | 15 |  36 | 24.2 | 0.526 | 26 | 0 |\n",
       "|  5 |  88 | 66 | 21 |  23 | 24.4 | 0.342 | 30 | 0 |\n",
       "|  7 | 150 | 66 | 42 | 342 | 34.7 | 0.718 | 42 | 0 |\n",
       "|  1 |  73 | 50 | 10 |   0 | 23.0 | 0.248 | 21 | 0 |\n",
       "|  0 | 100 | 88 | 60 | 110 | 46.8 | 0.962 | 31 | 0 |\n",
       "|  0 | 146 | 82 |  0 |   0 | 40.5 | 1.781 | 44 | 0 |\n",
       "| ⋮ | ⋮ | ⋮ | ⋮ | ⋮ | ⋮ | ⋮ | ⋮ | ⋮ |\n",
       "|  8 | 167 | 106 | 46 | 231 | 37.6 | 0.165 | 43 | 1 |\n",
       "|  9 | 145 |  80 | 46 | 130 | 37.9 | 0.637 | 40 | 1 |\n",
       "|  6 | 115 |  60 | 39 |   0 | 33.7 | 0.245 | 40 | 1 |\n",
       "|  6 | 195 |  70 |  0 |   0 | 30.9 | 0.328 | 31 | 1 |\n",
       "|  0 | 162 |  76 | 36 |   0 | 49.6 | 0.364 | 26 | 1 |\n",
       "|  4 | 125 |  80 |  0 |   0 | 32.3 | 0.536 | 27 | 1 |\n",
       "|  1 | 144 |  82 | 46 | 180 | 46.1 | 0.335 | 46 | 1 |\n",
       "| 13 | 158 | 114 |  0 |   0 | 42.3 | 0.257 | 44 | 1 |\n",
       "|  7 | 129 |  68 | 49 | 125 | 38.5 | 0.439 | 43 | 1 |\n",
       "|  7 | 142 |  90 | 24 | 480 | 30.4 | 0.128 | 43 | 1 |\n",
       "|  1 | 168 |  88 | 29 |   0 | 35.0 | 0.905 | 52 | 1 |\n",
       "|  2 |  93 |  64 | 32 | 160 | 38.0 | 0.674 | 23 | 1 |\n",
       "| 10 | 129 |  62 | 36 |   0 | 41.2 | 0.441 | 38 | 1 |\n",
       "|  3 | 173 |  78 | 39 | 185 | 33.8 | 0.970 | 31 | 1 |\n",
       "|  1 | 149 |  68 | 29 | 127 | 29.3 | 0.349 | 42 | 1 |\n",
       "|  3 | 130 |  78 | 23 |  79 | 28.4 | 0.323 | 34 | 1 |\n",
       "|  8 | 120 |  86 |  0 |   0 | 28.4 | 0.259 | 22 | 1 |\n",
       "|  2 | 174 |  88 | 37 | 120 | 44.5 | 0.646 | 24 | 1 |\n",
       "|  1 | 102 |  74 |  0 |   0 | 39.5 | 0.293 | 42 | 1 |\n",
       "| 11 | 120 |  80 | 37 | 150 | 42.3 | 0.785 | 48 | 1 |\n",
       "|  9 | 140 |  94 |  0 |   0 | 32.7 | 0.734 | 45 | 1 |\n",
       "|  3 | 187 |  70 | 22 | 200 | 36.4 | 0.408 | 36 | 1 |\n",
       "|  6 | 162 |  62 |  0 |   0 | 24.3 | 0.178 | 50 | 1 |\n",
       "|  4 | 136 |  70 |  0 |   0 | 31.2 | 1.182 | 22 | 1 |\n",
       "|  0 | 181 |  88 | 44 | 510 | 43.3 | 0.222 | 26 | 1 |\n",
       "|  8 | 154 |  78 | 32 |   0 | 32.4 | 0.443 | 45 | 1 |\n",
       "|  1 | 128 |  88 | 39 | 110 | 36.5 | 1.057 | 37 | 1 |\n",
       "|  0 | 123 |  72 |  0 |   0 | 36.3 | 0.258 | 52 | 1 |\n",
       "|  9 | 170 |  74 | 31 |   0 | 44.0 | 0.403 | 43 | 1 |\n",
       "|  1 | 126 |  60 |  0 |   0 | 30.1 | 0.349 | 47 | 1 |\n",
       "\n"
      ],
      "text/plain": [
       "    Pregnancies Glucose BloodPressure SkinThickness Insulin BMI \n",
       "1    1           85     66            29              0     26.6\n",
       "2    1           89     66            23             94     28.1\n",
       "3    5          116     74             0              0     25.6\n",
       "4   10          115      0             0              0     35.3\n",
       "5    4          110     92             0              0     37.6\n",
       "6   10          139     80             0              0     27.1\n",
       "7    1          103     30            38             83     43.3\n",
       "8    3          126     88            41            235     39.3\n",
       "9    8           99     84             0              0     35.4\n",
       "10   1           97     66            15            140     23.2\n",
       "11  13          145     82            19            110     22.2\n",
       "12   5          109     75            26              0     36.0\n",
       "13   3           88     58            11             54     24.8\n",
       "14   6           92     92             0              0     19.9\n",
       "15  10          122     78            31              0     27.6\n",
       "16   4          103     60            33            192     24.0\n",
       "17  11          138     76             0              0     33.2\n",
       "18   7          133     84             0              0     40.2\n",
       "19   7          106     92            18              0     22.7\n",
       "20   7          159     64             0              0     27.4\n",
       "21   1          146     56             0              0     29.7\n",
       "22   2           71     70            27              0     28.0\n",
       "23   7          105      0             0              0      0.0\n",
       "24   1          103     80            11             82     19.4\n",
       "25   1          101     50            15             36     24.2\n",
       "26   5           88     66            21             23     24.4\n",
       "27   7          150     66            42            342     34.7\n",
       "28   1           73     50            10              0     23.0\n",
       "29   0          100     88            60            110     46.8\n",
       "30   0          146     82             0              0     40.5\n",
       "⋮   ⋮           ⋮       ⋮             ⋮             ⋮       ⋮   \n",
       "547  8          167     106           46            231     37.6\n",
       "548  9          145      80           46            130     37.9\n",
       "549  6          115      60           39              0     33.7\n",
       "550  6          195      70            0              0     30.9\n",
       "551  0          162      76           36              0     49.6\n",
       "552  4          125      80            0              0     32.3\n",
       "553  1          144      82           46            180     46.1\n",
       "554 13          158     114            0              0     42.3\n",
       "555  7          129      68           49            125     38.5\n",
       "556  7          142      90           24            480     30.4\n",
       "557  1          168      88           29              0     35.0\n",
       "558  2           93      64           32            160     38.0\n",
       "559 10          129      62           36              0     41.2\n",
       "560  3          173      78           39            185     33.8\n",
       "561  1          149      68           29            127     29.3\n",
       "562  3          130      78           23             79     28.4\n",
       "563  8          120      86            0              0     28.4\n",
       "564  2          174      88           37            120     44.5\n",
       "565  1          102      74            0              0     39.5\n",
       "566 11          120      80           37            150     42.3\n",
       "567  9          140      94            0              0     32.7\n",
       "568  3          187      70           22            200     36.4\n",
       "569  6          162      62            0              0     24.3\n",
       "570  4          136      70            0              0     31.2\n",
       "571  0          181      88           44            510     43.3\n",
       "572  8          154      78           32              0     32.4\n",
       "573  1          128      88           39            110     36.5\n",
       "574  0          123      72            0              0     36.3\n",
       "575  9          170      74           31              0     44.0\n",
       "576  1          126      60            0              0     30.1\n",
       "    DiabetesPedigreeFunction Age Outcome\n",
       "1   0.351                    31  0      \n",
       "2   0.167                    21  0      \n",
       "3   0.201                    30  0      \n",
       "4   0.134                    29  0      \n",
       "5   0.191                    30  0      \n",
       "6   1.441                    57  0      \n",
       "7   0.183                    33  0      \n",
       "8   0.704                    27  0      \n",
       "9   0.388                    50  0      \n",
       "10  0.487                    22  0      \n",
       "11  0.245                    57  0      \n",
       "12  0.546                    60  0      \n",
       "13  0.267                    22  0      \n",
       "14  0.188                    28  0      \n",
       "15  0.512                    45  0      \n",
       "16  0.966                    33  0      \n",
       "17  0.420                    35  0      \n",
       "18  0.696                    37  0      \n",
       "19  0.235                    48  0      \n",
       "20  0.294                    40  0      \n",
       "21  0.564                    29  0      \n",
       "22  0.586                    22  0      \n",
       "23  0.305                    24  0      \n",
       "24  0.491                    22  0      \n",
       "25  0.526                    26  0      \n",
       "26  0.342                    30  0      \n",
       "27  0.718                    42  0      \n",
       "28  0.248                    21  0      \n",
       "29  0.962                    31  0      \n",
       "30  1.781                    44  0      \n",
       "⋮   ⋮                        ⋮   ⋮      \n",
       "547 0.165                    43  1      \n",
       "548 0.637                    40  1      \n",
       "549 0.245                    40  1      \n",
       "550 0.328                    31  1      \n",
       "551 0.364                    26  1      \n",
       "552 0.536                    27  1      \n",
       "553 0.335                    46  1      \n",
       "554 0.257                    44  1      \n",
       "555 0.439                    43  1      \n",
       "556 0.128                    43  1      \n",
       "557 0.905                    52  1      \n",
       "558 0.674                    23  1      \n",
       "559 0.441                    38  1      \n",
       "560 0.970                    31  1      \n",
       "561 0.349                    42  1      \n",
       "562 0.323                    34  1      \n",
       "563 0.259                    22  1      \n",
       "564 0.646                    24  1      \n",
       "565 0.293                    42  1      \n",
       "566 0.785                    48  1      \n",
       "567 0.734                    45  1      \n",
       "568 0.408                    36  1      \n",
       "569 0.178                    50  1      \n",
       "570 1.182                    22  1      \n",
       "571 0.222                    26  1      \n",
       "572 0.443                    45  1      \n",
       "573 1.057                    37  1      \n",
       "574 0.258                    52  1      \n",
       "575 0.403                    43  1      \n",
       "576 0.349                    47  1      "
      ]
     },
     "metadata": {},
     "output_type": "display_data"
    }
   ],
   "source": [
    "glimpse(diabetes_train)\n",
    "\n",
    "diabetes_train\n"
   ]
  },
  {
   "cell_type": "markdown",
   "id": "c061892f-14af-4342-8098-6799d6117391",
   "metadata": {},
   "source": [
    "❓ Which variable is suitable as the \"outcome\" in a linear regression model?\n",
    "\n",
    "**Answer:**"
   ]
  },
  {
   "cell_type": "markdown",
   "id": "ba2dfed5-6132-4efd-9cf0-d24469d5fb0e",
   "metadata": {},
   "source": [
    "After 10 minute of analysis on the diabetes_train table, i've concluded that this question isn't a trick question so I will choose the ironic outcome columne as the suitable variable for the linear regression model."
   ]
  },
  {
   "cell_type": "markdown",
   "id": "16827b78-d5b4-4037-b89b-fa2ed13f0968",
   "metadata": {},
   "source": [
    "❓ Navigate to [Kaggle page]() for this dataset. Find descriptions for the `Glucose` and `BMI` columns. Add these descriptions to the [Markdown table](https://www.markdownguide.org/extended-syntax/#tables) below."
   ]
  },
  {
   "cell_type": "markdown",
   "id": "8025ad75-2a7b-43cd-9df4-77677abdf492",
   "metadata": {},
   "source": [
    "| Column name | Description |\n",
    "| :---------- | :---------- |\n",
    "| Glucose     |             |\n",
    "| BMI         |             |"
   ]
  },
  {
   "cell_type": "markdown",
   "id": "1ad31340-2c33-48a6-9a5b-468b970e670c",
   "metadata": {},
   "source": [
    "Make a bar chart showing the frequency of each \"outcome\" in the `Outcome` column from your `diabetes_train` data."
   ]
  },
  {
   "cell_type": "code",
   "execution_count": null,
   "id": "579fb58c-0b0d-4fff-9b0e-826d38247a29",
   "metadata": {},
   "outputs": [],
   "source": []
  },
  {
   "cell_type": "markdown",
   "id": "cc6a0694-256c-45a1-bcf5-bdebeb472a7b",
   "metadata": {},
   "source": [
    "❓ Is the data balanced? I.e. do we have equal counts of each outcome?\n",
    "\n",
    "**Answer:**"
   ]
  },
  {
   "cell_type": "code",
   "execution_count": null,
   "id": "f2da066b-d46a-4f7f-afe8-37c8a9439164",
   "metadata": {},
   "outputs": [],
   "source": [
    "\n",
    "\n"
   ]
  },
  {
   "cell_type": "markdown",
   "id": "f7cbe99d-468c-45fa-83ba-7a372b1557e5",
   "metadata": {},
   "source": [
    "Run the code below to create a table for plotting the predictors we will use in our model: `Glucose` and `BMI`. "
   ]
  },
  {
   "cell_type": "code",
   "execution_count": null,
   "id": "f65b95e2-0a95-4684-8017-30ae1b8bee5f",
   "metadata": {},
   "outputs": [],
   "source": [
    "plot_df = diabetes_train |>\n",
    "    select(Outcome, Glucose, BMI) |>\n",
    "    pivot_longer(cols = c(Glucose, BMI))\n",
    "\n",
    "plot_df |> head()"
   ]
  },
  {
   "cell_type": "markdown",
   "id": "67ccafeb-cd48-41cf-b3b8-d027aba80966",
   "metadata": {},
   "source": [
    "Using `plot_df`, make a chart showing the relationship of `Glucose` and `BMI` with `Outcome`. \n",
    "\n",
    "- use `geom_jitter` for your \"geom\"\n",
    "- `facet_wrap` your chart by the `name` variable. (e.g. `facet_wrap(~name, ncol = 2, scales = 'free_x')`)"
   ]
  },
  {
   "cell_type": "code",
   "execution_count": null,
   "id": "d8025f46-2434-4b03-8f44-39d89f905c25",
   "metadata": {},
   "outputs": [],
   "source": [
    "\n",
    "\n"
   ]
  },
  {
   "cell_type": "markdown",
   "id": "29a0eccb-f3d5-49f5-b397-92b35b45e514",
   "metadata": {},
   "source": [
    "❓ What happens when you remove the `scales = 'free_x'` argument from the `facet_wrap` function?\n",
    "\n",
    "**Answer:**"
   ]
  },
  {
   "cell_type": "code",
   "execution_count": null,
   "id": "ce75916b-76c8-4dfc-8829-3a9c97212b5d",
   "metadata": {},
   "outputs": [],
   "source": []
  },
  {
   "cell_type": "markdown",
   "id": "935e60ea-5f33-4eba-97c0-59f0a3792ecf",
   "metadata": {},
   "source": [
    "Using your training data, build logistic regression model of `Outcome` with `BMI` and `Glucose` as predictors. \n",
    "- Use \"glm\" for you engine\n",
    "- The formula for your fit function will be `Outcome ~ BMI + Glucose`"
   ]
  },
  {
   "cell_type": "code",
   "execution_count": null,
   "id": "27dddfd6-efb4-4edf-a9e4-7e6239ef0216",
   "metadata": {},
   "outputs": [],
   "source": [
    "\n",
    "\n"
   ]
  },
  {
   "cell_type": "markdown",
   "id": "9a1aa2d0-b6b4-42ad-8ac5-17c90e4bb216",
   "metadata": {},
   "source": [
    "Using `augment` with your fitted model and the `diabetes_test` data as arguments, create a new dataset called `diabeted_test_wPred` that is the `diabetes_test` table including predictions from your model. "
   ]
  },
  {
   "cell_type": "code",
   "execution_count": null,
   "id": "36e7fbfa-b71a-4175-bcc1-e565a748c124",
   "metadata": {},
   "outputs": [],
   "source": [
    "\n",
    "\n"
   ]
  },
  {
   "cell_type": "markdown",
   "id": "f35cf7da-ca1e-42d3-a27b-e79193a1ccfd",
   "metadata": {},
   "source": [
    "Run the code below to generate a confusion matrix for your model predictions. \n",
    "\n",
    "(❗️Hint: See Table 4.4 from [*Introduction to Statistical Learning (Version 2)*](https://www.statlearning.com/) for an example confusion matrix.)"
   ]
  },
  {
   "cell_type": "code",
   "execution_count": null,
   "id": "fb3bfae0-9d17-48a0-bde7-4891f91a07aa",
   "metadata": {},
   "outputs": [],
   "source": [
    "diabetes_test_wPred = augment(mod_fit, new_data = diabetes_test)\n",
    "\n",
    "diabetes_test_wPred |> conf_mat(Outcome, .pred_class)"
   ]
  },
  {
   "cell_type": "markdown",
   "id": "7dc9a16d-9fda-4fcc-8e62-52c3e5849e26",
   "metadata": {},
   "source": [
    "❓ Based on the confusion matrix above, \n",
    "- How many individuals had diabetes in your test data?\n",
    "- Of those that actually had diabetes, how many were predicted to have diabetes by your model?\n",
    "- How many individuals predicted to have diabetes did not have diabetes?\n",
    "\n",
    "**Answer:**"
   ]
  },
  {
   "cell_type": "markdown",
   "id": "a759514d-7d82-4c40-9f8e-dab37b73e59a",
   "metadata": {},
   "source": [
    "\n",
    "\n"
   ]
  }
 ],
 "metadata": {
  "kernelspec": {
   "display_name": "data730:R",
   "language": "R",
   "name": "conda-env-data730-r"
  },
  "language_info": {
   "codemirror_mode": "r",
   "file_extension": ".r",
   "mimetype": "text/x-r-source",
   "name": "R",
   "pygments_lexer": "r",
   "version": "4.3.2"
  }
 },
 "nbformat": 4,
 "nbformat_minor": 5
}
